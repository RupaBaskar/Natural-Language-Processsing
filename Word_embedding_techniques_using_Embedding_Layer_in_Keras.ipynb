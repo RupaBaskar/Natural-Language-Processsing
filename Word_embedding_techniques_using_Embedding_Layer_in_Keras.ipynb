{
  "nbformat": 4,
  "nbformat_minor": 0,
  "metadata": {
    "colab": {
      "name": "Word embedding techniques using Embedding Layer in Keras.ipynb",
      "provenance": [],
      "authorship_tag": "ABX9TyMDq7bkPx67b29bjkGAuft8",
      "include_colab_link": true
    },
    "kernelspec": {
      "name": "python3",
      "display_name": "Python 3"
    },
    "language_info": {
      "name": "python"
    }
  },
  "cells": [
    {
      "cell_type": "markdown",
      "metadata": {
        "id": "view-in-github",
        "colab_type": "text"
      },
      "source": [
        "<a href=\"https://colab.research.google.com/github/lightfury36/Natural-Language-Processsing/blob/main/Word_embedding_techniques_using_Embedding_Layer_in_Keras.ipynb\" target=\"_parent\"><img src=\"https://colab.research.google.com/assets/colab-badge.svg\" alt=\"Open In Colab\"/></a>"
      ]
    },
    {
      "cell_type": "code",
      "metadata": {
        "id": "FmHvgQNhMpic",
        "colab": {
          "base_uri": "https://localhost:8080/"
        },
        "outputId": "405e15e6-556c-48f3-d1c4-135646dbb784"
      },
      "source": [
        "!pip install tensorflow"
      ],
      "execution_count": null,
      "outputs": [
        {
          "output_type": "stream",
          "text": [
            "Requirement already satisfied: tensorflow in /usr/local/lib/python3.7/dist-packages (2.4.1)\n",
            "Requirement already satisfied: google-pasta~=0.2 in /usr/local/lib/python3.7/dist-packages (from tensorflow) (0.2.0)\n",
            "Requirement already satisfied: absl-py~=0.10 in /usr/local/lib/python3.7/dist-packages (from tensorflow) (0.12.0)\n",
            "Requirement already satisfied: keras-preprocessing~=1.1.2 in /usr/local/lib/python3.7/dist-packages (from tensorflow) (1.1.2)\n",
            "Requirement already satisfied: numpy~=1.19.2 in /usr/local/lib/python3.7/dist-packages (from tensorflow) (1.19.5)\n",
            "Requirement already satisfied: typing-extensions~=3.7.4 in /usr/local/lib/python3.7/dist-packages (from tensorflow) (3.7.4.3)\n",
            "Requirement already satisfied: termcolor~=1.1.0 in /usr/local/lib/python3.7/dist-packages (from tensorflow) (1.1.0)\n",
            "Requirement already satisfied: astunparse~=1.6.3 in /usr/local/lib/python3.7/dist-packages (from tensorflow) (1.6.3)\n",
            "Requirement already satisfied: wheel~=0.35 in /usr/local/lib/python3.7/dist-packages (from tensorflow) (0.36.2)\n",
            "Requirement already satisfied: gast==0.3.3 in /usr/local/lib/python3.7/dist-packages (from tensorflow) (0.3.3)\n",
            "Requirement already satisfied: flatbuffers~=1.12.0 in /usr/local/lib/python3.7/dist-packages (from tensorflow) (1.12)\n",
            "Requirement already satisfied: opt-einsum~=3.3.0 in /usr/local/lib/python3.7/dist-packages (from tensorflow) (3.3.0)\n",
            "Requirement already satisfied: tensorflow-estimator<2.5.0,>=2.4.0 in /usr/local/lib/python3.7/dist-packages (from tensorflow) (2.4.0)\n",
            "Requirement already satisfied: tensorboard~=2.4 in /usr/local/lib/python3.7/dist-packages (from tensorflow) (2.4.1)\n",
            "Requirement already satisfied: grpcio~=1.32.0 in /usr/local/lib/python3.7/dist-packages (from tensorflow) (1.32.0)\n",
            "Requirement already satisfied: six~=1.15.0 in /usr/local/lib/python3.7/dist-packages (from tensorflow) (1.15.0)\n",
            "Requirement already satisfied: wrapt~=1.12.1 in /usr/local/lib/python3.7/dist-packages (from tensorflow) (1.12.1)\n",
            "Requirement already satisfied: h5py~=2.10.0 in /usr/local/lib/python3.7/dist-packages (from tensorflow) (2.10.0)\n",
            "Requirement already satisfied: protobuf>=3.9.2 in /usr/local/lib/python3.7/dist-packages (from tensorflow) (3.12.4)\n",
            "Requirement already satisfied: google-auth<2,>=1.6.3 in /usr/local/lib/python3.7/dist-packages (from tensorboard~=2.4->tensorflow) (1.28.1)\n",
            "Requirement already satisfied: requests<3,>=2.21.0 in /usr/local/lib/python3.7/dist-packages (from tensorboard~=2.4->tensorflow) (2.23.0)\n",
            "Requirement already satisfied: google-auth-oauthlib<0.5,>=0.4.1 in /usr/local/lib/python3.7/dist-packages (from tensorboard~=2.4->tensorflow) (0.4.4)\n",
            "Requirement already satisfied: setuptools>=41.0.0 in /usr/local/lib/python3.7/dist-packages (from tensorboard~=2.4->tensorflow) (56.0.0)\n",
            "Requirement already satisfied: tensorboard-plugin-wit>=1.6.0 in /usr/local/lib/python3.7/dist-packages (from tensorboard~=2.4->tensorflow) (1.8.0)\n",
            "Requirement already satisfied: werkzeug>=0.11.15 in /usr/local/lib/python3.7/dist-packages (from tensorboard~=2.4->tensorflow) (1.0.1)\n",
            "Requirement already satisfied: markdown>=2.6.8 in /usr/local/lib/python3.7/dist-packages (from tensorboard~=2.4->tensorflow) (3.3.4)\n",
            "Requirement already satisfied: pyasn1-modules>=0.2.1 in /usr/local/lib/python3.7/dist-packages (from google-auth<2,>=1.6.3->tensorboard~=2.4->tensorflow) (0.2.8)\n",
            "Requirement already satisfied: cachetools<5.0,>=2.0.0 in /usr/local/lib/python3.7/dist-packages (from google-auth<2,>=1.6.3->tensorboard~=2.4->tensorflow) (4.2.1)\n",
            "Requirement already satisfied: rsa<5,>=3.1.4; python_version >= \"3.6\" in /usr/local/lib/python3.7/dist-packages (from google-auth<2,>=1.6.3->tensorboard~=2.4->tensorflow) (4.7.2)\n",
            "Requirement already satisfied: urllib3!=1.25.0,!=1.25.1,<1.26,>=1.21.1 in /usr/local/lib/python3.7/dist-packages (from requests<3,>=2.21.0->tensorboard~=2.4->tensorflow) (1.24.3)\n",
            "Requirement already satisfied: certifi>=2017.4.17 in /usr/local/lib/python3.7/dist-packages (from requests<3,>=2.21.0->tensorboard~=2.4->tensorflow) (2020.12.5)\n",
            "Requirement already satisfied: chardet<4,>=3.0.2 in /usr/local/lib/python3.7/dist-packages (from requests<3,>=2.21.0->tensorboard~=2.4->tensorflow) (3.0.4)\n",
            "Requirement already satisfied: idna<3,>=2.5 in /usr/local/lib/python3.7/dist-packages (from requests<3,>=2.21.0->tensorboard~=2.4->tensorflow) (2.10)\n",
            "Requirement already satisfied: requests-oauthlib>=0.7.0 in /usr/local/lib/python3.7/dist-packages (from google-auth-oauthlib<0.5,>=0.4.1->tensorboard~=2.4->tensorflow) (1.3.0)\n",
            "Requirement already satisfied: importlib-metadata; python_version < \"3.8\" in /usr/local/lib/python3.7/dist-packages (from markdown>=2.6.8->tensorboard~=2.4->tensorflow) (3.10.1)\n",
            "Requirement already satisfied: pyasn1<0.5.0,>=0.4.6 in /usr/local/lib/python3.7/dist-packages (from pyasn1-modules>=0.2.1->google-auth<2,>=1.6.3->tensorboard~=2.4->tensorflow) (0.4.8)\n",
            "Requirement already satisfied: oauthlib>=3.0.0 in /usr/local/lib/python3.7/dist-packages (from requests-oauthlib>=0.7.0->google-auth-oauthlib<0.5,>=0.4.1->tensorboard~=2.4->tensorflow) (3.1.0)\n",
            "Requirement already satisfied: zipp>=0.5 in /usr/local/lib/python3.7/dist-packages (from importlib-metadata; python_version < \"3.8\"->markdown>=2.6.8->tensorboard~=2.4->tensorflow) (3.4.1)\n"
          ],
          "name": "stdout"
        }
      ]
    },
    {
      "cell_type": "code",
      "metadata": {
        "id": "6KS9IgYwYQxn"
      },
      "source": [
        "from tensorflow.keras.preprocessing.text import one_hot\n"
      ],
      "execution_count": null,
      "outputs": []
    },
    {
      "cell_type": "code",
      "metadata": {
        "id": "E-TMqHJlYF4P"
      },
      "source": [
        "sent=[  'the glass of milk',\n",
        "     'the glass of juice',\n",
        "     'the cup of tea',\n",
        "    'I am a good boy',\n",
        "     'I am a good developer',\n",
        "     'understand the meaning of words',\n",
        "     'your videos are good',]"
      ],
      "execution_count": null,
      "outputs": []
    },
    {
      "cell_type": "code",
      "metadata": {
        "colab": {
          "base_uri": "https://localhost:8080/"
        },
        "id": "YiocyqTrYlPp",
        "outputId": "9607374f-4a53-4c27-fd66-977cbfaa0f49"
      },
      "source": [
        "sent"
      ],
      "execution_count": null,
      "outputs": [
        {
          "output_type": "execute_result",
          "data": {
            "text/plain": [
              "['the glass of milk',\n",
              " 'the glass of juice',\n",
              " 'the cup of tea',\n",
              " 'I am a good boy',\n",
              " 'I am a good developer',\n",
              " 'understand the meaning of words',\n",
              " 'your videos are good']"
            ]
          },
          "metadata": {
            "tags": []
          },
          "execution_count": 5
        }
      ]
    },
    {
      "cell_type": "code",
      "metadata": {
        "id": "MFp05q8jYnCG"
      },
      "source": [
        "voc_size = 10000"
      ],
      "execution_count": null,
      "outputs": []
    },
    {
      "cell_type": "markdown",
      "metadata": {
        "id": "5E5Wo8iGYt1l"
      },
      "source": [
        "##One Hot Representation##\n"
      ]
    },
    {
      "cell_type": "code",
      "metadata": {
        "colab": {
          "base_uri": "https://localhost:8080/"
        },
        "id": "qMR45ybKYqea",
        "outputId": "5f0e1086-04e5-406f-cba0-a0e604c8f9b3"
      },
      "source": [
        "onehot_repr = [one_hot(words, voc_size)for words in sent]\n",
        "print(onehot_repr)"
      ],
      "execution_count": null,
      "outputs": [
        {
          "output_type": "stream",
          "text": [
            "[[2512, 9142, 7095, 1121], [2512, 9142, 7095, 8979], [2512, 3909, 7095, 7886], [4018, 5928, 3482, 7291, 2377], [4018, 5928, 3482, 7291, 2175], [9418, 2512, 4713, 7095, 3096], [7258, 1574, 5971, 7291]]\n"
          ],
          "name": "stdout"
        }
      ]
    },
    {
      "cell_type": "markdown",
      "metadata": {
        "id": "GCYB6JPKZGz1"
      },
      "source": [
        "##Word Embedding Represntation##"
      ]
    },
    {
      "cell_type": "code",
      "metadata": {
        "id": "TVA_3XTIZC2w"
      },
      "source": [
        "from tensorflow.keras.models import Sequential\n",
        "from tensorflow.keras.layers import Embedding\n",
        "from tensorflow.keras.preprocessing.sequence import pad_sequences\n"
      ],
      "execution_count": null,
      "outputs": []
    },
    {
      "cell_type": "code",
      "metadata": {
        "id": "cpJR8BENaCCL"
      },
      "source": [
        "import numpy as np"
      ],
      "execution_count": null,
      "outputs": []
    },
    {
      "cell_type": "code",
      "metadata": {
        "colab": {
          "base_uri": "https://localhost:8080/"
        },
        "id": "OvbQ9HkBbYqE",
        "outputId": "dcc4e5e0-2861-48d0-866e-0af3abe4f924"
      },
      "source": [
        "sent_length=8\n",
        "embedded_docs=pad_sequences(onehot_repr,padding='pre',maxlen=sent_length)\n",
        "print(embedded_docs)"
      ],
      "execution_count": null,
      "outputs": [
        {
          "output_type": "stream",
          "text": [
            "[[   0    0    0    0 2512 9142 7095 1121]\n",
            " [   0    0    0    0 2512 9142 7095 8979]\n",
            " [   0    0    0    0 2512 3909 7095 7886]\n",
            " [   0    0    0 4018 5928 3482 7291 2377]\n",
            " [   0    0    0 4018 5928 3482 7291 2175]\n",
            " [   0    0    0 9418 2512 4713 7095 3096]\n",
            " [   0    0    0    0 7258 1574 5971 7291]]\n"
          ],
          "name": "stdout"
        }
      ]
    },
    {
      "cell_type": "code",
      "metadata": {
        "id": "WItjabBSaunO"
      },
      "source": [
        "dim=10"
      ],
      "execution_count": null,
      "outputs": []
    },
    {
      "cell_type": "code",
      "metadata": {
        "id": "AgyF9ZNkbmuq"
      },
      "source": [
        "model=Sequential()\n",
        "model.add(Embedding(voc_size,10,input_length=sent_length))\n",
        "model.compile('adam','mse')"
      ],
      "execution_count": null,
      "outputs": []
    },
    {
      "cell_type": "code",
      "metadata": {
        "colab": {
          "base_uri": "https://localhost:8080/"
        },
        "id": "fMqpRUPIcBzt",
        "outputId": "c85b3960-d9b1-467c-e894-a580705addea"
      },
      "source": [
        "model.summary()"
      ],
      "execution_count": null,
      "outputs": [
        {
          "output_type": "stream",
          "text": [
            "Model: \"sequential_4\"\n",
            "_________________________________________________________________\n",
            "Layer (type)                 Output Shape              Param #   \n",
            "=================================================================\n",
            "embedding_3 (Embedding)      (None, 8, 10)             100000    \n",
            "=================================================================\n",
            "Total params: 100,000\n",
            "Trainable params: 100,000\n",
            "Non-trainable params: 0\n",
            "_________________________________________________________________\n"
          ],
          "name": "stdout"
        }
      ]
    },
    {
      "cell_type": "code",
      "metadata": {
        "colab": {
          "base_uri": "https://localhost:8080/"
        },
        "id": "Go2Fb0uLcd38",
        "outputId": "43b4cb36-3472-4a9f-c6e9-18d2d0b0893f"
      },
      "source": [
        "print(model.predict(embedded_docs))"
      ],
      "execution_count": null,
      "outputs": [
        {
          "output_type": "stream",
          "text": [
            "[[[ 0.04378453 -0.03887673  0.03939677 -0.04594499  0.0036945\n",
            "   -0.03274553 -0.00826691 -0.03199642  0.01648827  0.0081693 ]\n",
            "  [ 0.04378453 -0.03887673  0.03939677 -0.04594499  0.0036945\n",
            "   -0.03274553 -0.00826691 -0.03199642  0.01648827  0.0081693 ]\n",
            "  [ 0.04378453 -0.03887673  0.03939677 -0.04594499  0.0036945\n",
            "   -0.03274553 -0.00826691 -0.03199642  0.01648827  0.0081693 ]\n",
            "  [ 0.04378453 -0.03887673  0.03939677 -0.04594499  0.0036945\n",
            "   -0.03274553 -0.00826691 -0.03199642  0.01648827  0.0081693 ]\n",
            "  [ 0.01149422  0.00053829  0.03301844 -0.01049735  0.03413392\n",
            "    0.00722028 -0.0474209   0.01215713 -0.02963513  0.0068366 ]\n",
            "  [-0.04133415 -0.00777923 -0.02509756 -0.015553   -0.04474722\n",
            "   -0.0276332   0.01074631 -0.03517505  0.02174715  0.01711829]\n",
            "  [ 0.02882898 -0.04417856  0.04314912 -0.01399241  0.02303106\n",
            "    0.03709619 -0.00475375 -0.00867531  0.04723435  0.01888945]\n",
            "  [-0.04821235  0.04400856 -0.03738451  0.04191348 -0.03670205\n",
            "   -0.01549381 -0.00058086  0.02564828 -0.00929371 -0.00083102]]\n",
            "\n",
            " [[ 0.04378453 -0.03887673  0.03939677 -0.04594499  0.0036945\n",
            "   -0.03274553 -0.00826691 -0.03199642  0.01648827  0.0081693 ]\n",
            "  [ 0.04378453 -0.03887673  0.03939677 -0.04594499  0.0036945\n",
            "   -0.03274553 -0.00826691 -0.03199642  0.01648827  0.0081693 ]\n",
            "  [ 0.04378453 -0.03887673  0.03939677 -0.04594499  0.0036945\n",
            "   -0.03274553 -0.00826691 -0.03199642  0.01648827  0.0081693 ]\n",
            "  [ 0.04378453 -0.03887673  0.03939677 -0.04594499  0.0036945\n",
            "   -0.03274553 -0.00826691 -0.03199642  0.01648827  0.0081693 ]\n",
            "  [ 0.01149422  0.00053829  0.03301844 -0.01049735  0.03413392\n",
            "    0.00722028 -0.0474209   0.01215713 -0.02963513  0.0068366 ]\n",
            "  [-0.04133415 -0.00777923 -0.02509756 -0.015553   -0.04474722\n",
            "   -0.0276332   0.01074631 -0.03517505  0.02174715  0.01711829]\n",
            "  [ 0.02882898 -0.04417856  0.04314912 -0.01399241  0.02303106\n",
            "    0.03709619 -0.00475375 -0.00867531  0.04723435  0.01888945]\n",
            "  [-0.00436465  0.03724873  0.04088198 -0.01995133  0.03726151\n",
            "    0.02217979 -0.0183661  -0.02620591 -0.0429932   0.02985305]]\n",
            "\n",
            " [[ 0.04378453 -0.03887673  0.03939677 -0.04594499  0.0036945\n",
            "   -0.03274553 -0.00826691 -0.03199642  0.01648827  0.0081693 ]\n",
            "  [ 0.04378453 -0.03887673  0.03939677 -0.04594499  0.0036945\n",
            "   -0.03274553 -0.00826691 -0.03199642  0.01648827  0.0081693 ]\n",
            "  [ 0.04378453 -0.03887673  0.03939677 -0.04594499  0.0036945\n",
            "   -0.03274553 -0.00826691 -0.03199642  0.01648827  0.0081693 ]\n",
            "  [ 0.04378453 -0.03887673  0.03939677 -0.04594499  0.0036945\n",
            "   -0.03274553 -0.00826691 -0.03199642  0.01648827  0.0081693 ]\n",
            "  [ 0.01149422  0.00053829  0.03301844 -0.01049735  0.03413392\n",
            "    0.00722028 -0.0474209   0.01215713 -0.02963513  0.0068366 ]\n",
            "  [ 0.02406545 -0.00516764 -0.0292545   0.01960966 -0.04428077\n",
            "   -0.04377521 -0.01202466  0.01210052 -0.0139969   0.02410371]\n",
            "  [ 0.02882898 -0.04417856  0.04314912 -0.01399241  0.02303106\n",
            "    0.03709619 -0.00475375 -0.00867531  0.04723435  0.01888945]\n",
            "  [-0.04161731 -0.0382623   0.00344507 -0.02760221 -0.00587307\n",
            "   -0.03532902  0.00345645 -0.03915908 -0.01212026 -0.01211046]]\n",
            "\n",
            " [[ 0.04378453 -0.03887673  0.03939677 -0.04594499  0.0036945\n",
            "   -0.03274553 -0.00826691 -0.03199642  0.01648827  0.0081693 ]\n",
            "  [ 0.04378453 -0.03887673  0.03939677 -0.04594499  0.0036945\n",
            "   -0.03274553 -0.00826691 -0.03199642  0.01648827  0.0081693 ]\n",
            "  [ 0.04378453 -0.03887673  0.03939677 -0.04594499  0.0036945\n",
            "   -0.03274553 -0.00826691 -0.03199642  0.01648827  0.0081693 ]\n",
            "  [-0.03315443 -0.02520626  0.03113807  0.04842478  0.00404147\n",
            "   -0.04144546  0.00308681  0.00847059  0.00619874  0.04512557]\n",
            "  [-0.04687822 -0.03974124  0.04948116 -0.01355869  0.01546165\n",
            "    0.02109558  0.00713534 -0.00836875 -0.01869953 -0.00396932]\n",
            "  [ 0.03272185 -0.0283121  -0.04231515 -0.00933561 -0.00858976\n",
            "    0.01256819  0.03989447  0.04004684 -0.04277075 -0.00921563]\n",
            "  [ 0.00228368  0.04593642 -0.03977912  0.04770688  0.0158427\n",
            "   -0.03573216 -0.01596744  0.00846022  0.00100669 -0.0089648 ]\n",
            "  [-0.02709477  0.04215595  0.02784817 -0.03084594  0.03516794\n",
            "    0.02527218 -0.01300184  0.03768021  0.02552128  0.00239851]]\n",
            "\n",
            " [[ 0.04378453 -0.03887673  0.03939677 -0.04594499  0.0036945\n",
            "   -0.03274553 -0.00826691 -0.03199642  0.01648827  0.0081693 ]\n",
            "  [ 0.04378453 -0.03887673  0.03939677 -0.04594499  0.0036945\n",
            "   -0.03274553 -0.00826691 -0.03199642  0.01648827  0.0081693 ]\n",
            "  [ 0.04378453 -0.03887673  0.03939677 -0.04594499  0.0036945\n",
            "   -0.03274553 -0.00826691 -0.03199642  0.01648827  0.0081693 ]\n",
            "  [-0.03315443 -0.02520626  0.03113807  0.04842478  0.00404147\n",
            "   -0.04144546  0.00308681  0.00847059  0.00619874  0.04512557]\n",
            "  [-0.04687822 -0.03974124  0.04948116 -0.01355869  0.01546165\n",
            "    0.02109558  0.00713534 -0.00836875 -0.01869953 -0.00396932]\n",
            "  [ 0.03272185 -0.0283121  -0.04231515 -0.00933561 -0.00858976\n",
            "    0.01256819  0.03989447  0.04004684 -0.04277075 -0.00921563]\n",
            "  [ 0.00228368  0.04593642 -0.03977912  0.04770688  0.0158427\n",
            "   -0.03573216 -0.01596744  0.00846022  0.00100669 -0.0089648 ]\n",
            "  [ 0.04111693  0.02548319 -0.00348843 -0.04004125  0.03201822\n",
            "   -0.00169014 -0.02933955  0.02123329 -0.03558578  0.02996631]]\n",
            "\n",
            " [[ 0.04378453 -0.03887673  0.03939677 -0.04594499  0.0036945\n",
            "   -0.03274553 -0.00826691 -0.03199642  0.01648827  0.0081693 ]\n",
            "  [ 0.04378453 -0.03887673  0.03939677 -0.04594499  0.0036945\n",
            "   -0.03274553 -0.00826691 -0.03199642  0.01648827  0.0081693 ]\n",
            "  [ 0.04378453 -0.03887673  0.03939677 -0.04594499  0.0036945\n",
            "   -0.03274553 -0.00826691 -0.03199642  0.01648827  0.0081693 ]\n",
            "  [ 0.01775492 -0.0100999   0.02994542 -0.01751045  0.02655799\n",
            "    0.02111718 -0.01755207 -0.03820669  0.01394689  0.01639159]\n",
            "  [ 0.01149422  0.00053829  0.03301844 -0.01049735  0.03413392\n",
            "    0.00722028 -0.0474209   0.01215713 -0.02963513  0.0068366 ]\n",
            "  [ 0.04074962  0.00377005 -0.03364392 -0.02963846 -0.03138075\n",
            "    0.02211444  0.0233661   0.04976412 -0.04399017  0.00411786]\n",
            "  [ 0.02882898 -0.04417856  0.04314912 -0.01399241  0.02303106\n",
            "    0.03709619 -0.00475375 -0.00867531  0.04723435  0.01888945]\n",
            "  [-0.01852087  0.01109216  0.0346537  -0.04455353  0.04053843\n",
            "   -0.04444748  0.0255065  -0.00067591  0.02575041  0.00872481]]\n",
            "\n",
            " [[ 0.04378453 -0.03887673  0.03939677 -0.04594499  0.0036945\n",
            "   -0.03274553 -0.00826691 -0.03199642  0.01648827  0.0081693 ]\n",
            "  [ 0.04378453 -0.03887673  0.03939677 -0.04594499  0.0036945\n",
            "   -0.03274553 -0.00826691 -0.03199642  0.01648827  0.0081693 ]\n",
            "  [ 0.04378453 -0.03887673  0.03939677 -0.04594499  0.0036945\n",
            "   -0.03274553 -0.00826691 -0.03199642  0.01648827  0.0081693 ]\n",
            "  [ 0.04378453 -0.03887673  0.03939677 -0.04594499  0.0036945\n",
            "   -0.03274553 -0.00826691 -0.03199642  0.01648827  0.0081693 ]\n",
            "  [ 0.02470993  0.00418393 -0.04803263 -0.0202071  -0.01921721\n",
            "   -0.01860269 -0.02054278  0.03063801  0.04686895  0.000346  ]\n",
            "  [ 0.04957828 -0.0101125   0.04484424 -0.03651524 -0.00033461\n",
            "    0.00793945  0.0028954   0.03509137 -0.02988167 -0.04057193]\n",
            "  [ 0.02608876 -0.04828146 -0.04977899 -0.02914498  0.01553025\n",
            "   -0.03434049  0.04232956 -0.0165695  -0.00182612  0.00445592]\n",
            "  [ 0.00228368  0.04593642 -0.03977912  0.04770688  0.0158427\n",
            "   -0.03573216 -0.01596744  0.00846022  0.00100669 -0.0089648 ]]]\n"
          ],
          "name": "stdout"
        }
      ]
    },
    {
      "cell_type": "code",
      "metadata": {
        "colab": {
          "base_uri": "https://localhost:8080/"
        },
        "id": "azEDprL7gsVt",
        "outputId": "658c1446-b81d-4f19-eec5-743695584868"
      },
      "source": [
        "len((model.predict(embedded_docs)))"
      ],
      "execution_count": null,
      "outputs": [
        {
          "output_type": "execute_result",
          "data": {
            "text/plain": [
              "7"
            ]
          },
          "metadata": {
            "tags": []
          },
          "execution_count": 31
        }
      ]
    },
    {
      "cell_type": "code",
      "metadata": {
        "colab": {
          "base_uri": "https://localhost:8080/"
        },
        "id": "vpLIG1KGcrbV",
        "outputId": "559aa91e-d510-448b-fc91-d1d325e3880e"
      },
      "source": [
        "embedded_docs[0]"
      ],
      "execution_count": null,
      "outputs": [
        {
          "output_type": "execute_result",
          "data": {
            "text/plain": [
              "array([   0,    0,    0,    0, 2512, 9142, 7095, 1121], dtype=int32)"
            ]
          },
          "metadata": {
            "tags": []
          },
          "execution_count": 28
        }
      ]
    },
    {
      "cell_type": "code",
      "metadata": {
        "colab": {
          "base_uri": "https://localhost:8080/"
        },
        "id": "m4REeIGccysV",
        "outputId": "1a55ce8e-603f-475e-8f53-0e4df8069f98"
      },
      "source": [
        "print(model.predict(embedded_docs[0]))"
      ],
      "execution_count": null,
      "outputs": [
        {
          "output_type": "stream",
          "text": [
            "WARNING:tensorflow:Model was constructed with shape (None, 8) for input KerasTensor(type_spec=TensorSpec(shape=(None, 8), dtype=tf.float32, name='embedding_3_input'), name='embedding_3_input', description=\"created by layer 'embedding_3_input'\"), but it was called on an input with incompatible shape (None, 1).\n",
            "[[[ 0.04378453 -0.03887673  0.03939677 -0.04594499  0.0036945\n",
            "   -0.03274553 -0.00826691 -0.03199642  0.01648827  0.0081693 ]]\n",
            "\n",
            " [[ 0.04378453 -0.03887673  0.03939677 -0.04594499  0.0036945\n",
            "   -0.03274553 -0.00826691 -0.03199642  0.01648827  0.0081693 ]]\n",
            "\n",
            " [[ 0.04378453 -0.03887673  0.03939677 -0.04594499  0.0036945\n",
            "   -0.03274553 -0.00826691 -0.03199642  0.01648827  0.0081693 ]]\n",
            "\n",
            " [[ 0.04378453 -0.03887673  0.03939677 -0.04594499  0.0036945\n",
            "   -0.03274553 -0.00826691 -0.03199642  0.01648827  0.0081693 ]]\n",
            "\n",
            " [[ 0.01149422  0.00053829  0.03301844 -0.01049735  0.03413392\n",
            "    0.00722028 -0.0474209   0.01215713 -0.02963513  0.0068366 ]]\n",
            "\n",
            " [[-0.04133415 -0.00777923 -0.02509756 -0.015553   -0.04474722\n",
            "   -0.0276332   0.01074631 -0.03517505  0.02174715  0.01711829]]\n",
            "\n",
            " [[ 0.02882898 -0.04417856  0.04314912 -0.01399241  0.02303106\n",
            "    0.03709619 -0.00475375 -0.00867531  0.04723435  0.01888945]]\n",
            "\n",
            " [[-0.04821235  0.04400856 -0.03738451  0.04191348 -0.03670205\n",
            "   -0.01549381 -0.00058086  0.02564828 -0.00929371 -0.00083102]]]\n"
          ],
          "name": "stdout"
        }
      ]
    },
    {
      "cell_type": "code",
      "metadata": {
        "id": "mRpriPAhhOuM",
        "colab": {
          "base_uri": "https://localhost:8080/"
        },
        "outputId": "63b23bdf-3fa6-4bc4-cb0a-0c072b16f536"
      },
      "source": [
        "len(model.predict(embedded_docs[0]))"
      ],
      "execution_count": null,
      "outputs": [
        {
          "output_type": "execute_result",
          "data": {
            "text/plain": [
              "8"
            ]
          },
          "metadata": {
            "tags": []
          },
          "execution_count": 32
        }
      ]
    },
    {
      "cell_type": "code",
      "metadata": {
        "id": "1G1cBGNndKVZ"
      },
      "source": [
        ""
      ],
      "execution_count": null,
      "outputs": []
    }
  ]
}